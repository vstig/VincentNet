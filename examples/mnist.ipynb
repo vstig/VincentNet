{
 "cells": [
  {
   "cell_type": "code",
   "execution_count": 1,
   "metadata": {
    "collapsed": true
   },
   "outputs": [],
   "source": [
    "%load_ext autotime\n",
    "%matplotlib inline"
   ]
  },
  {
   "cell_type": "code",
   "execution_count": 2,
   "metadata": {},
   "outputs": [
    {
     "name": "stdout",
     "output_type": "stream",
     "text": [
      "time: 6.32 s\n"
     ]
    }
   ],
   "source": [
    "import numpy as np\n",
    "import matplotlib.pyplot as plt\n",
    "import pandas as pd\n",
    "\n",
    "from vincentnet.neural_net import NeuralNetwork\n",
    "\n",
    "import mnist"
   ]
  },
  {
   "cell_type": "code",
   "execution_count": 3,
   "metadata": {},
   "outputs": [
    {
     "name": "stdout",
     "output_type": "stream",
     "text": [
      "time: 2.1 ms\n"
     ]
    }
   ],
   "source": [
    "def gen_image(arr):\n",
    "    two_d = (np.reshape(arr, (28, 28))).astype(np.uint8)\n",
    "    plt.imshow(two_d, cmap='gray')\n",
    "    return plt"
   ]
  },
  {
   "cell_type": "code",
   "execution_count": 4,
   "metadata": {},
   "outputs": [
    {
     "name": "stdout",
     "output_type": "stream",
     "text": [
      "time: 7.44 s\n"
     ]
    }
   ],
   "source": [
    "images, labels = mnist.train_images().reshape(-1, 28*28), mnist.train_labels()\n",
    "test_images, test_labels = mnist.test_images().reshape(-1, 28*28), mnist.test_labels()\n",
    "\n",
    "X = np.array(images)\n",
    "X_std = X.std()\n",
    "X_mean = X.mean()\n",
    "X = (X - X_mean) / X_std\n",
    "\n",
    "y = np.array(labels)\n",
    "\n",
    "X_test = (np.array(test_images) - X_mean) / X_std\n",
    "y_test = np.array(test_labels)"
   ]
  },
  {
   "cell_type": "code",
   "execution_count": 5,
   "metadata": {},
   "outputs": [
    {
     "name": "stdout",
     "output_type": "stream",
     "text": [
      "time: 1.88 ms\n"
     ]
    }
   ],
   "source": [
    "X_train = X[:50000]\n",
    "X_validation = X[50000:]\n",
    "\n",
    "y_train = y[:50000]\n",
    "y_validation = y[50000:]"
   ]
  },
  {
   "cell_type": "code",
   "execution_count": 9,
   "metadata": {},
   "outputs": [
    {
     "name": "stdout",
     "output_type": "stream",
     "text": [
      "time: 11.2 ms\n"
     ]
    }
   ],
   "source": [
    "nn = NeuralNetwork(D=784, k=10, layers=[300, 100], step_size = .001, reg = .005)\n",
    "batch_size = 264\n",
    "s = 0\n",
    "training_info = []"
   ]
  },
  {
   "cell_type": "code",
   "execution_count": null,
   "metadata": {},
   "outputs": [
    {
     "name": "stdout",
     "output_type": "stream",
     "text": [
      "Loss at step 0: 2.36870\n",
      "\tValidation Accuracy: 0.1115\t\n"
     ]
    }
   ],
   "source": [
    "for s in range(s, s+100000):\n",
    "    batch = np.array(range(batch_size*s, batch_size*s+batch_size))%X_train.shape[0]\n",
    "    l = nn.step(X_train[batch, :], y_train[batch])\n",
    "    \n",
    "    if s%5000==0:\n",
    "        print 'Loss at step {}: {:0.5f}\\n\\tValidation Accuracy: {:}\\t'.format(s, l, nn.get_accuracy(X_validation, y_validation))\n",
    "        nn.step_size *= .99\n",
    "        training_info.append({'loss': l,\n",
    "                              'step': s,\n",
    "                              'train_accuracy': nn.get_accuracy(X_train, y_train),\n",
    "                              'validation_accuracy': nn.get_accuracy(X_validation, y_validation)})"
   ]
  },
  {
   "cell_type": "code",
   "execution_count": 107,
   "metadata": {},
   "outputs": [
    {
     "data": {
      "text/plain": [
       "0.9723"
      ]
     },
     "execution_count": 107,
     "metadata": {},
     "output_type": "execute_result"
    },
    {
     "name": "stdout",
     "output_type": "stream",
     "text": [
      "time: 116 ms\n"
     ]
    }
   ],
   "source": [
    "nn.get_accuracy(X_test, y_test)"
   ]
  },
  {
   "cell_type": "code",
   "execution_count": 108,
   "metadata": {},
   "outputs": [
    {
     "name": "stdout",
     "output_type": "stream",
     "text": [
      "time: 3.22 ms\n"
     ]
    }
   ],
   "source": [
    "train_df = pd.DataFrame(training_info).sort_values('step')"
   ]
  },
  {
   "cell_type": "code",
   "execution_count": 110,
   "metadata": {},
   "outputs": [
    {
     "data": {
      "text/plain": [
       "<matplotlib.axes._subplots.AxesSubplot at 0x10a1bcf50>"
      ]
     },
     "execution_count": 110,
     "metadata": {},
     "output_type": "execute_result"
    },
    {
     "data": {
      "image/png": "[encoded data removed]",
      "text/plain": [
       "<matplotlib.figure.Figure at 0x10bba9750>"
      ]
     },
     "metadata": {},
     "output_type": "display_data"
    },
    {
     "name": "stdout",
     "output_type": "stream",
     "text": [
      "time: 217 ms\n"
     ]
    }
   ],
   "source": [
    "(train_df.set_index('step')[['train_accuracy', 'validation_accuracy']]\n",
    " .query('step > 150000')\n",
    " .plot())"
   ]
  },
  {
   "cell_type": "markdown",
   "metadata": {},
   "source": [
    "### Inspect the Errors"
   ]
  },
  {
   "cell_type": "code",
   "execution_count": 111,
   "metadata": {},
   "outputs": [
    {
     "name": "stdout",
     "output_type": "stream",
     "text": [
      "time: 93.5 ms\n"
     ]
    }
   ],
   "source": [
    "preds = nn.predict(X_test)\n",
    "v = enumerate(zip(preds, y_test))"
   ]
  },
  {
   "cell_type": "code",
   "execution_count": 112,
   "metadata": {},
   "outputs": [
    {
     "name": "stdout",
     "output_type": "stream",
     "text": [
      "Index 8: Model thought 5 was 6\n"
     ]
    },
    {
     "data": {
      "text/plain": [
       "<module 'matplotlib.pyplot' from '/Users/vincentstigliani/Envs/mnist/lib/python2.7/site-packages/matplotlib/pyplot.pyc'>"
      ]
     },
     "execution_count": 112,
     "metadata": {},
     "output_type": "execute_result"
    },
    {
     "data": {
      "image/png": "[encoded data removed]",
      "text/plain": [
       "<matplotlib.figure.Figure at 0x10a1a8a10>"
      ]
     },
     "metadata": {},
     "output_type": "display_data"
    },
    {
     "name": "stdout",
     "output_type": "stream",
     "text": [
      "time: 161 ms\n"
     ]
    }
   ],
   "source": [
    "a,b,c = next((i, x, y) for i, (x,y) in v if x!=y)\n",
    "print 'Index {}: Model thought {} was {}'.format(a, c, b)\n",
    "gen_image(test_images[a])"
   ]
  }
 ],
 "metadata": {
  "kernelspec": {
   "display_name": "vincentnet",
   "language": "python",
   "name": "vincentnet"
  },
  "language_info": {
   "codemirror_mode": {
    "name": "ipython",
    "version": 2
   },
   "file_extension": ".py",
   "mimetype": "text/x-python",
   "name": "python",
   "nbconvert_exporter": "python",
   "pygments_lexer": "ipython2",
   "version": "2.7.13"
  }
 },
 "nbformat": 4,
 "nbformat_minor": 2
}
